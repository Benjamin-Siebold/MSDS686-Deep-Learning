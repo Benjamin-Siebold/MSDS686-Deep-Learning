{
  "nbformat": 4,
  "nbformat_minor": 0,
  "metadata": {
    "colab": {
      "name": "Fuel_Efficiency_Assignment.ipynb",
      "provenance": [],
      "collapsed_sections": [],
      "include_colab_link": true
    },
    "kernelspec": {
      "display_name": "Python 3",
      "language": "python",
      "name": "python3"
    },
    "language_info": {
      "codemirror_mode": {
        "name": "ipython",
        "version": 3
      },
      "file_extension": ".py",
      "mimetype": "text/x-python",
      "name": "python",
      "nbconvert_exporter": "python",
      "pygments_lexer": "ipython3",
      "version": "3.6.8"
    },
    "accelerator": "TPU"
  },
  "cells": [
    {
      "cell_type": "markdown",
      "metadata": {
        "id": "view-in-github",
        "colab_type": "text"
      },
      "source": [
        "<a href=\"https://colab.research.google.com/github/Benjamin-Siebold/MSDS686-Deep-Learning/blob/main/Fuel_Efficiency_Assignment.ipynb\" target=\"_parent\"><img src=\"https://colab.research.google.com/assets/colab-badge.svg\" alt=\"Open In Colab\"/></a>"
      ]
    },
    {
      "cell_type": "markdown",
      "metadata": {
        "id": "KVqVcVDo9aUi"
      },
      "source": [
        "# Fuel Efficiency Assingment\n",
        "## Adapted from TensorFlow Tutorials\n",
        "#### Using the Boston Housing jupyter notebook as an example follow the prompts below to build a neural network to predict vehicle fuel efficiency"
      ]
    },
    {
      "cell_type": "code",
      "metadata": {
        "id": "uuLZ2hhn9aUs",
        "outputId": "5f1c6aaa-f23f-442d-cc1a-e68aadaf336f",
        "colab": {
          "base_uri": "https://localhost:8080/",
          "height": 17
        }
      },
      "source": [
        "from IPython.core.display import display, HTML\n",
        "display(HTML(\"<style>.container { width:95% !important; }</style>\"))"
      ],
      "execution_count": null,
      "outputs": [
        {
          "output_type": "display_data",
          "data": {
            "text/html": [
              "<style>.container { width:95% !important; }</style>"
            ],
            "text/plain": [
              "<IPython.core.display.HTML object>"
            ]
          },
          "metadata": {
            "tags": []
          }
        }
      ]
    },
    {
      "cell_type": "code",
      "metadata": {
        "id": "gB-uz88U9aVH"
      },
      "source": [
        "# Import the necessary libraries\n",
        "import matplotlib.pyplot as plt\n",
        "import pandas as pd\n",
        "import tensorflow as tf\n",
        "from tensorflow import keras\n",
        "from sklearn.model_selection import train_test_split\n",
        "from tensorflow.keras import models\n",
        "from tensorflow.keras import layers\n",
        "from tensorflow.keras import backend\n",
        "tf.random.set_seed(486)"
      ],
      "execution_count": null,
      "outputs": []
    },
    {
      "cell_type": "code",
      "metadata": {
        "id": "xHSh7Wz79iiN"
      },
      "source": [
        "# Download the dataset\n",
        "dataset_path = keras.utils.get_file(\"auto-mpg.data\", \"http://archive.ics.uci.edu/ml/machine-learning-databases/auto-mpg/auto-mpg.data\")"
      ],
      "execution_count": null,
      "outputs": []
    },
    {
      "cell_type": "code",
      "metadata": {
        "id": "joNdceRk9aVX",
        "outputId": "0eb03fec-56e4-4d86-ee4b-40a0bc9cb716",
        "colab": {
          "base_uri": "https://localhost:8080/",
          "height": 204
        }
      },
      "source": [
        "# Add labels to columns and view dataset\n",
        "column_names = ['MPG','Cylinders','Displacement','Horsepower','Weight',\n",
        "                'Acceleration', 'Model Year', 'Origin']\n",
        "raw_dataset = pd.read_csv(dataset_path, names=column_names,\n",
        "                      na_values = \"?\", comment='\\t',\n",
        "                      sep=\" \", skipinitialspace=True)\n",
        "\n",
        "dataset = raw_dataset.copy()\n",
        "dataset.tail()"
      ],
      "execution_count": null,
      "outputs": [
        {
          "output_type": "execute_result",
          "data": {
            "text/html": [
              "<div>\n",
              "<style scoped>\n",
              "    .dataframe tbody tr th:only-of-type {\n",
              "        vertical-align: middle;\n",
              "    }\n",
              "\n",
              "    .dataframe tbody tr th {\n",
              "        vertical-align: top;\n",
              "    }\n",
              "\n",
              "    .dataframe thead th {\n",
              "        text-align: right;\n",
              "    }\n",
              "</style>\n",
              "<table border=\"1\" class=\"dataframe\">\n",
              "  <thead>\n",
              "    <tr style=\"text-align: right;\">\n",
              "      <th></th>\n",
              "      <th>MPG</th>\n",
              "      <th>Cylinders</th>\n",
              "      <th>Displacement</th>\n",
              "      <th>Horsepower</th>\n",
              "      <th>Weight</th>\n",
              "      <th>Acceleration</th>\n",
              "      <th>Model Year</th>\n",
              "      <th>Origin</th>\n",
              "    </tr>\n",
              "  </thead>\n",
              "  <tbody>\n",
              "    <tr>\n",
              "      <th>393</th>\n",
              "      <td>27.0</td>\n",
              "      <td>4</td>\n",
              "      <td>140.0</td>\n",
              "      <td>86.0</td>\n",
              "      <td>2790.0</td>\n",
              "      <td>15.6</td>\n",
              "      <td>82</td>\n",
              "      <td>1</td>\n",
              "    </tr>\n",
              "    <tr>\n",
              "      <th>394</th>\n",
              "      <td>44.0</td>\n",
              "      <td>4</td>\n",
              "      <td>97.0</td>\n",
              "      <td>52.0</td>\n",
              "      <td>2130.0</td>\n",
              "      <td>24.6</td>\n",
              "      <td>82</td>\n",
              "      <td>2</td>\n",
              "    </tr>\n",
              "    <tr>\n",
              "      <th>395</th>\n",
              "      <td>32.0</td>\n",
              "      <td>4</td>\n",
              "      <td>135.0</td>\n",
              "      <td>84.0</td>\n",
              "      <td>2295.0</td>\n",
              "      <td>11.6</td>\n",
              "      <td>82</td>\n",
              "      <td>1</td>\n",
              "    </tr>\n",
              "    <tr>\n",
              "      <th>396</th>\n",
              "      <td>28.0</td>\n",
              "      <td>4</td>\n",
              "      <td>120.0</td>\n",
              "      <td>79.0</td>\n",
              "      <td>2625.0</td>\n",
              "      <td>18.6</td>\n",
              "      <td>82</td>\n",
              "      <td>1</td>\n",
              "    </tr>\n",
              "    <tr>\n",
              "      <th>397</th>\n",
              "      <td>31.0</td>\n",
              "      <td>4</td>\n",
              "      <td>119.0</td>\n",
              "      <td>82.0</td>\n",
              "      <td>2720.0</td>\n",
              "      <td>19.4</td>\n",
              "      <td>82</td>\n",
              "      <td>1</td>\n",
              "    </tr>\n",
              "  </tbody>\n",
              "</table>\n",
              "</div>"
            ],
            "text/plain": [
              "      MPG  Cylinders  Displacement  ...  Acceleration  Model Year  Origin\n",
              "393  27.0          4         140.0  ...          15.6          82       1\n",
              "394  44.0          4          97.0  ...          24.6          82       2\n",
              "395  32.0          4         135.0  ...          11.6          82       1\n",
              "396  28.0          4         120.0  ...          18.6          82       1\n",
              "397  31.0          4         119.0  ...          19.4          82       1\n",
              "\n",
              "[5 rows x 8 columns]"
            ]
          },
          "metadata": {
            "tags": []
          },
          "execution_count": 43
        }
      ]
    },
    {
      "cell_type": "code",
      "metadata": {
        "id": "g_McGq3q_MPS",
        "outputId": "15a738ab-0592-43f2-cd28-0385b60e7228",
        "colab": {
          "base_uri": "https://localhost:8080/",
          "height": 204
        }
      },
      "source": [
        "# Vehicle orgin needs to be encoded to factors.  \n",
        "origin = dataset.pop('Origin')\n",
        "dataset['USA'] = (origin == 1)*1.0\n",
        "dataset['Europe'] = (origin == 2)*1.0\n",
        "dataset['Japan'] = (origin == 3)*1.0\n",
        "dataset.head()"
      ],
      "execution_count": null,
      "outputs": [
        {
          "output_type": "execute_result",
          "data": {
            "text/html": [
              "<div>\n",
              "<style scoped>\n",
              "    .dataframe tbody tr th:only-of-type {\n",
              "        vertical-align: middle;\n",
              "    }\n",
              "\n",
              "    .dataframe tbody tr th {\n",
              "        vertical-align: top;\n",
              "    }\n",
              "\n",
              "    .dataframe thead th {\n",
              "        text-align: right;\n",
              "    }\n",
              "</style>\n",
              "<table border=\"1\" class=\"dataframe\">\n",
              "  <thead>\n",
              "    <tr style=\"text-align: right;\">\n",
              "      <th></th>\n",
              "      <th>MPG</th>\n",
              "      <th>Cylinders</th>\n",
              "      <th>Displacement</th>\n",
              "      <th>Horsepower</th>\n",
              "      <th>Weight</th>\n",
              "      <th>Acceleration</th>\n",
              "      <th>Model Year</th>\n",
              "      <th>USA</th>\n",
              "      <th>Europe</th>\n",
              "      <th>Japan</th>\n",
              "    </tr>\n",
              "  </thead>\n",
              "  <tbody>\n",
              "    <tr>\n",
              "      <th>0</th>\n",
              "      <td>18.0</td>\n",
              "      <td>8</td>\n",
              "      <td>307.0</td>\n",
              "      <td>130.0</td>\n",
              "      <td>3504.0</td>\n",
              "      <td>12.0</td>\n",
              "      <td>70</td>\n",
              "      <td>1.0</td>\n",
              "      <td>0.0</td>\n",
              "      <td>0.0</td>\n",
              "    </tr>\n",
              "    <tr>\n",
              "      <th>1</th>\n",
              "      <td>15.0</td>\n",
              "      <td>8</td>\n",
              "      <td>350.0</td>\n",
              "      <td>165.0</td>\n",
              "      <td>3693.0</td>\n",
              "      <td>11.5</td>\n",
              "      <td>70</td>\n",
              "      <td>1.0</td>\n",
              "      <td>0.0</td>\n",
              "      <td>0.0</td>\n",
              "    </tr>\n",
              "    <tr>\n",
              "      <th>2</th>\n",
              "      <td>18.0</td>\n",
              "      <td>8</td>\n",
              "      <td>318.0</td>\n",
              "      <td>150.0</td>\n",
              "      <td>3436.0</td>\n",
              "      <td>11.0</td>\n",
              "      <td>70</td>\n",
              "      <td>1.0</td>\n",
              "      <td>0.0</td>\n",
              "      <td>0.0</td>\n",
              "    </tr>\n",
              "    <tr>\n",
              "      <th>3</th>\n",
              "      <td>16.0</td>\n",
              "      <td>8</td>\n",
              "      <td>304.0</td>\n",
              "      <td>150.0</td>\n",
              "      <td>3433.0</td>\n",
              "      <td>12.0</td>\n",
              "      <td>70</td>\n",
              "      <td>1.0</td>\n",
              "      <td>0.0</td>\n",
              "      <td>0.0</td>\n",
              "    </tr>\n",
              "    <tr>\n",
              "      <th>4</th>\n",
              "      <td>17.0</td>\n",
              "      <td>8</td>\n",
              "      <td>302.0</td>\n",
              "      <td>140.0</td>\n",
              "      <td>3449.0</td>\n",
              "      <td>10.5</td>\n",
              "      <td>70</td>\n",
              "      <td>1.0</td>\n",
              "      <td>0.0</td>\n",
              "      <td>0.0</td>\n",
              "    </tr>\n",
              "  </tbody>\n",
              "</table>\n",
              "</div>"
            ],
            "text/plain": [
              "    MPG  Cylinders  Displacement  Horsepower  ...  Model Year  USA  Europe  Japan\n",
              "0  18.0          8         307.0       130.0  ...          70  1.0     0.0    0.0\n",
              "1  15.0          8         350.0       165.0  ...          70  1.0     0.0    0.0\n",
              "2  18.0          8         318.0       150.0  ...          70  1.0     0.0    0.0\n",
              "3  16.0          8         304.0       150.0  ...          70  1.0     0.0    0.0\n",
              "4  17.0          8         302.0       140.0  ...          70  1.0     0.0    0.0\n",
              "\n",
              "[5 rows x 10 columns]"
            ]
          },
          "metadata": {
            "tags": []
          },
          "execution_count": 44
        }
      ]
    },
    {
      "cell_type": "code",
      "metadata": {
        "id": "fvJYcHNKMcT3",
        "outputId": "4f96bc01-e299-4d1e-897f-4bacb8f57424",
        "colab": {
          "base_uri": "https://localhost:8080/",
          "height": 297
        }
      },
      "source": [
        "dataset.describe()"
      ],
      "execution_count": null,
      "outputs": [
        {
          "output_type": "execute_result",
          "data": {
            "text/html": [
              "<div>\n",
              "<style scoped>\n",
              "    .dataframe tbody tr th:only-of-type {\n",
              "        vertical-align: middle;\n",
              "    }\n",
              "\n",
              "    .dataframe tbody tr th {\n",
              "        vertical-align: top;\n",
              "    }\n",
              "\n",
              "    .dataframe thead th {\n",
              "        text-align: right;\n",
              "    }\n",
              "</style>\n",
              "<table border=\"1\" class=\"dataframe\">\n",
              "  <thead>\n",
              "    <tr style=\"text-align: right;\">\n",
              "      <th></th>\n",
              "      <th>MPG</th>\n",
              "      <th>Cylinders</th>\n",
              "      <th>Displacement</th>\n",
              "      <th>Horsepower</th>\n",
              "      <th>Weight</th>\n",
              "      <th>Acceleration</th>\n",
              "      <th>Model Year</th>\n",
              "      <th>USA</th>\n",
              "      <th>Europe</th>\n",
              "      <th>Japan</th>\n",
              "    </tr>\n",
              "  </thead>\n",
              "  <tbody>\n",
              "    <tr>\n",
              "      <th>count</th>\n",
              "      <td>398.000000</td>\n",
              "      <td>398.000000</td>\n",
              "      <td>398.000000</td>\n",
              "      <td>392.000000</td>\n",
              "      <td>398.000000</td>\n",
              "      <td>398.000000</td>\n",
              "      <td>398.000000</td>\n",
              "      <td>398.000000</td>\n",
              "      <td>398.000000</td>\n",
              "      <td>398.000000</td>\n",
              "    </tr>\n",
              "    <tr>\n",
              "      <th>mean</th>\n",
              "      <td>23.514573</td>\n",
              "      <td>5.454774</td>\n",
              "      <td>193.425879</td>\n",
              "      <td>104.469388</td>\n",
              "      <td>2970.424623</td>\n",
              "      <td>15.568090</td>\n",
              "      <td>76.010050</td>\n",
              "      <td>0.625628</td>\n",
              "      <td>0.175879</td>\n",
              "      <td>0.198492</td>\n",
              "    </tr>\n",
              "    <tr>\n",
              "      <th>std</th>\n",
              "      <td>7.815984</td>\n",
              "      <td>1.701004</td>\n",
              "      <td>104.269838</td>\n",
              "      <td>38.491160</td>\n",
              "      <td>846.841774</td>\n",
              "      <td>2.757689</td>\n",
              "      <td>3.697627</td>\n",
              "      <td>0.484569</td>\n",
              "      <td>0.381197</td>\n",
              "      <td>0.399367</td>\n",
              "    </tr>\n",
              "    <tr>\n",
              "      <th>min</th>\n",
              "      <td>9.000000</td>\n",
              "      <td>3.000000</td>\n",
              "      <td>68.000000</td>\n",
              "      <td>46.000000</td>\n",
              "      <td>1613.000000</td>\n",
              "      <td>8.000000</td>\n",
              "      <td>70.000000</td>\n",
              "      <td>0.000000</td>\n",
              "      <td>0.000000</td>\n",
              "      <td>0.000000</td>\n",
              "    </tr>\n",
              "    <tr>\n",
              "      <th>25%</th>\n",
              "      <td>17.500000</td>\n",
              "      <td>4.000000</td>\n",
              "      <td>104.250000</td>\n",
              "      <td>75.000000</td>\n",
              "      <td>2223.750000</td>\n",
              "      <td>13.825000</td>\n",
              "      <td>73.000000</td>\n",
              "      <td>0.000000</td>\n",
              "      <td>0.000000</td>\n",
              "      <td>0.000000</td>\n",
              "    </tr>\n",
              "    <tr>\n",
              "      <th>50%</th>\n",
              "      <td>23.000000</td>\n",
              "      <td>4.000000</td>\n",
              "      <td>148.500000</td>\n",
              "      <td>93.500000</td>\n",
              "      <td>2803.500000</td>\n",
              "      <td>15.500000</td>\n",
              "      <td>76.000000</td>\n",
              "      <td>1.000000</td>\n",
              "      <td>0.000000</td>\n",
              "      <td>0.000000</td>\n",
              "    </tr>\n",
              "    <tr>\n",
              "      <th>75%</th>\n",
              "      <td>29.000000</td>\n",
              "      <td>8.000000</td>\n",
              "      <td>262.000000</td>\n",
              "      <td>126.000000</td>\n",
              "      <td>3608.000000</td>\n",
              "      <td>17.175000</td>\n",
              "      <td>79.000000</td>\n",
              "      <td>1.000000</td>\n",
              "      <td>0.000000</td>\n",
              "      <td>0.000000</td>\n",
              "    </tr>\n",
              "    <tr>\n",
              "      <th>max</th>\n",
              "      <td>46.600000</td>\n",
              "      <td>8.000000</td>\n",
              "      <td>455.000000</td>\n",
              "      <td>230.000000</td>\n",
              "      <td>5140.000000</td>\n",
              "      <td>24.800000</td>\n",
              "      <td>82.000000</td>\n",
              "      <td>1.000000</td>\n",
              "      <td>1.000000</td>\n",
              "      <td>1.000000</td>\n",
              "    </tr>\n",
              "  </tbody>\n",
              "</table>\n",
              "</div>"
            ],
            "text/plain": [
              "              MPG   Cylinders  Displacement  ...         USA      Europe       Japan\n",
              "count  398.000000  398.000000    398.000000  ...  398.000000  398.000000  398.000000\n",
              "mean    23.514573    5.454774    193.425879  ...    0.625628    0.175879    0.198492\n",
              "std      7.815984    1.701004    104.269838  ...    0.484569    0.381197    0.399367\n",
              "min      9.000000    3.000000     68.000000  ...    0.000000    0.000000    0.000000\n",
              "25%     17.500000    4.000000    104.250000  ...    0.000000    0.000000    0.000000\n",
              "50%     23.000000    4.000000    148.500000  ...    1.000000    0.000000    0.000000\n",
              "75%     29.000000    8.000000    262.000000  ...    1.000000    0.000000    0.000000\n",
              "max     46.600000    8.000000    455.000000  ...    1.000000    1.000000    1.000000\n",
              "\n",
              "[8 rows x 10 columns]"
            ]
          },
          "metadata": {
            "tags": []
          },
          "execution_count": 45
        }
      ]
    },
    {
      "cell_type": "code",
      "metadata": {
        "id": "A0dkOti141WM"
      },
      "source": [
        "# Remove missing data\n",
        "dataset.isnull().sum()\n",
        "dataset = dataset.dropna()"
      ],
      "execution_count": null,
      "outputs": []
    },
    {
      "cell_type": "code",
      "metadata": {
        "id": "sKLtoKX2OTvJ",
        "outputId": "f5f83757-6761-4965-a091-26e6b475523f",
        "colab": {
          "base_uri": "https://localhost:8080/"
        }
      },
      "source": [
        "# Split dataset into y tragets and remove the targets from the dataset.  We are predicting MPG (fuel efficiencey) so the targets are MPG\n",
        "mpg = dataset.pop('MPG')\n",
        "dataset.dtypes"
      ],
      "execution_count": null,
      "outputs": [
        {
          "output_type": "execute_result",
          "data": {
            "text/plain": [
              "Cylinders         int64\n",
              "Displacement    float64\n",
              "Horsepower      float64\n",
              "Weight          float64\n",
              "Acceleration    float64\n",
              "Model Year        int64\n",
              "USA             float64\n",
              "Europe          float64\n",
              "Japan           float64\n",
              "dtype: object"
            ]
          },
          "metadata": {
            "tags": []
          },
          "execution_count": 7
        }
      ]
    },
    {
      "cell_type": "code",
      "metadata": {
        "id": "UVFqZ7YlLY9r"
      },
      "source": [
        "dataset = dataset.to_numpy()\n",
        "mpg = mpg.to_numpy()"
      ],
      "execution_count": null,
      "outputs": []
    },
    {
      "cell_type": "code",
      "metadata": {
        "id": "EADoX6GgN22P"
      },
      "source": [
        "# Spit the dataset into x_train, x_test, y_train, y_test.  \n",
        "train_data, test_data, train_targets, test_targets = train_test_split(dataset, mpg, test_size=.2, shuffle=True)"
      ],
      "execution_count": null,
      "outputs": []
    },
    {
      "cell_type": "code",
      "metadata": {
        "id": "hVGXyuHr5mYs",
        "outputId": "11057925-d084-43fb-f77c-3517490db8d7",
        "colab": {
          "base_uri": "https://localhost:8080/"
        }
      },
      "source": [
        "print(train_data.shape)\n",
        "print(test_data.shape)\n",
        "print(train_targets.shape)\n",
        "print(test_targets.shape)\n",
        "train_data[0:5, :]"
      ],
      "execution_count": null,
      "outputs": [
        {
          "output_type": "stream",
          "text": [
            "(313, 9)\n",
            "(79, 9)\n",
            "(313,)\n",
            "(79,)\n"
          ],
          "name": "stdout"
        },
        {
          "output_type": "execute_result",
          "data": {
            "text/plain": [
              "array([[8.000e+00, 3.180e+02, 1.500e+02, 3.399e+03, 1.100e+01, 7.300e+01,\n",
              "        1.000e+00, 0.000e+00, 0.000e+00],\n",
              "       [8.000e+00, 3.040e+02, 1.500e+02, 3.672e+03, 1.150e+01, 7.300e+01,\n",
              "        1.000e+00, 0.000e+00, 0.000e+00],\n",
              "       [4.000e+00, 8.600e+01, 6.400e+01, 1.875e+03, 1.640e+01, 8.100e+01,\n",
              "        1.000e+00, 0.000e+00, 0.000e+00],\n",
              "       [6.000e+00, 2.310e+02, 1.100e+02, 3.039e+03, 1.500e+01, 7.500e+01,\n",
              "        1.000e+00, 0.000e+00, 0.000e+00],\n",
              "       [4.000e+00, 9.800e+01, 8.300e+01, 2.219e+03, 1.650e+01, 7.400e+01,\n",
              "        0.000e+00, 1.000e+00, 0.000e+00]])"
            ]
          },
          "metadata": {
            "tags": []
          },
          "execution_count": 10
        }
      ]
    },
    {
      "cell_type": "code",
      "metadata": {
        "id": "zwsKJwj_PNZa"
      },
      "source": [
        "# Normalize the data by subratcing the mean from each feature and divid by one standard deviation\n",
        "mean = train_data.mean(axis=0)\n",
        "train_data -= mean\n",
        "\n",
        "std = train_data.std(axis=0)\n",
        "train_data /= std\n",
        "\n",
        "test_data -= mean\n",
        "test_data /= std"
      ],
      "execution_count": null,
      "outputs": []
    },
    {
      "cell_type": "code",
      "metadata": {
        "id": "upKeE6dcPbaS",
        "outputId": "3f0356fc-1513-43b6-8783-db16f8ea12c1",
        "colab": {
          "base_uri": "https://localhost:8080/"
        }
      },
      "source": [
        "print(mean)"
      ],
      "execution_count": null,
      "outputs": [
        {
          "output_type": "stream",
          "text": [
            "[5.48881789e+00 1.96044728e+02 1.04591054e+02 2.99014377e+03\n",
            " 1.55364217e+01 7.60734824e+01 6.35782748e-01 1.66134185e-01\n",
            " 1.98083067e-01]\n"
          ],
          "name": "stdout"
        }
      ]
    },
    {
      "cell_type": "code",
      "metadata": {
        "id": "KJ5Oyz8b7LQs",
        "outputId": "8a651452-9194-48f8-d0cd-4b7ecc52ca40",
        "colab": {
          "base_uri": "https://localhost:8080/"
        }
      },
      "source": [
        "train_data[0:5,:]"
      ],
      "execution_count": null,
      "outputs": [
        {
          "output_type": "execute_result",
          "data": {
            "text/plain": [
              "array([[ 1.46935653,  1.16278989,  1.17568915,  0.48235596, -1.59711272,\n",
              "        -0.8327784 ,  0.75687801, -0.44635604, -0.49700297],\n",
              "       [ 1.46935653,  1.02930605,  1.17568915,  0.80443293, -1.4210805 ,\n",
              "        -0.8327784 ,  0.75687801, -0.44635604, -0.49700297],\n",
              "       [-0.87114522, -1.0492281 , -1.05094847, -1.3156122 ,  0.30403519,\n",
              "         1.33486933,  0.75687801, -0.44635604, -0.49700297],\n",
              "       [ 0.29910566,  0.33328314,  0.14004374,  0.05763907, -0.18885501,\n",
              "        -0.29086647,  0.75687801, -0.44635604, -0.49700297],\n",
              "       [-0.87114522, -0.93481338, -0.5590169 , -0.90977161,  0.33924163,\n",
              "        -0.56182243, -1.32121688,  2.24036398, -0.49700297]])"
            ]
          },
          "metadata": {
            "tags": []
          },
          "execution_count": 13
        }
      ]
    },
    {
      "cell_type": "code",
      "metadata": {
        "id": "EWfFDRFXIIBb"
      },
      "source": [
        "x_train, x_val, y_train, y_val = train_test_split(train_data, train_targets, test_size = .2, shuffle=True)"
      ],
      "execution_count": null,
      "outputs": []
    },
    {
      "cell_type": "code",
      "metadata": {
        "id": "XX2i2EUn_BHT"
      },
      "source": [
        "# Built a sequential neural network model.  Start with backend.clear_session()\n",
        "# Think about what activation function you will use, the input shape, number of nodes, and output shape and activation\n",
        "backend.clear_session()\n",
        "model = models.Sequential()\n",
        "model.add(layers.Dense(64, activation='relu', input_shape = (train_data.shape[1],)))\n",
        "model.add(layers.Dense(64, activation='relu'))\n",
        "model.add(layers.Dense(1))"
      ],
      "execution_count": null,
      "outputs": []
    },
    {
      "cell_type": "code",
      "metadata": {
        "id": "A3mv0oLBR3XW"
      },
      "source": [
        "# Compile the model.  Use 'adam' optimizer.  Think about what loss function and metrics you need to use for a regression problem\n",
        "model.compile(optimizer = 'adam', loss  = 'mse', metrics=['mae'])"
      ],
      "execution_count": null,
      "outputs": []
    },
    {
      "cell_type": "code",
      "metadata": {
        "id": "vJ8KVfLF_Hv1"
      },
      "source": [
        "# Fit the model.  Use 1000 epochs.  Add a validation spit to your model.  Set verbose = 0.\n",
        "history = model.fit(x_train,\n",
        "                    y_train,\n",
        "                    epochs = 1000,\n",
        "                    batch_size = 100,\n",
        "                    validation_data = (x_val, y_val),\n",
        "                    verbose = 0)"
      ],
      "execution_count": null,
      "outputs": []
    },
    {
      "cell_type": "code",
      "metadata": {
        "id": "oRfKjuM8UB5T",
        "outputId": "ba31fa41-ecb4-4f30-9f4b-ebaf1f527730",
        "colab": {
          "base_uri": "https://localhost:8080/"
        }
      },
      "source": [
        "# Use this bit of code to view the History output.\n",
        "hist = pd.DataFrame(history.history)\n",
        "print(hist.tail())"
      ],
      "execution_count": null,
      "outputs": [
        {
          "output_type": "stream",
          "text": [
            "         loss       mae   val_loss   val_mae\n",
            "995  3.736893  1.328085  10.004972  2.300015\n",
            "996  3.707886  1.311459   9.974962  2.271933\n",
            "997  3.727325  1.321698  10.146678  2.295351\n",
            "998  3.756240  1.331270  10.436465  2.350700\n",
            "999  3.750152  1.337772  10.321847  2.356571\n"
          ],
          "name": "stdout"
        }
      ]
    },
    {
      "cell_type": "code",
      "metadata": {
        "id": "Hr819dPc9aXk"
      },
      "source": [
        "#Plot the loss and MAE vs epochs\n",
        "history_dict = history.history\n",
        "loss_values = history_dict['loss']\n",
        "val_loss_values = history_dict['val_loss']\n",
        "acc_values = history_dict['mae']\n",
        "val_acc_values = history_dict['val_mae']\n",
        "epochs = range(1, len(history_dict['mae']) + 1)"
      ],
      "execution_count": null,
      "outputs": []
    },
    {
      "cell_type": "code",
      "metadata": {
        "id": "TXiqSkQo9aXs",
        "outputId": "d667ca66-b8ac-4b5d-a7a1-4aa2cc2fa06e",
        "colab": {
          "base_uri": "https://localhost:8080/",
          "height": 269
        }
      },
      "source": [
        "# Use the Boston Housing example to plot the validataion and training loss vs epochs\n",
        "plt.plot(epochs, loss_values, 'r', label = 'Training loss')\n",
        "plt.plot(epochs, val_loss_values, 'b', label = 'Validation loss')\n",
        "plt.ylim(0,20)\n",
        "plt.show()"
      ],
      "execution_count": null,
      "outputs": [
        {
          "output_type": "display_data",
          "data": {
            "image/png": "[encoded data removed]",
            "text/plain": [
              "<Figure size 432x288 with 1 Axes>"
            ]
          },
          "metadata": {
            "tags": [],
            "needs_background": "light"
          }
        }
      ]
    },
    {
      "cell_type": "code",
      "metadata": {
        "id": "04CcZh8x9aYH",
        "outputId": "034511d1-e8c6-40fa-ced5-a47181716d50",
        "colab": {
          "base_uri": "https://localhost:8080/",
          "height": 269
        }
      },
      "source": [
        "# Use the Boston Housing example to plot the validataion and training mean absolute error vs epochs\n",
        "plt.plot(epochs, acc_values, 'r', label = 'Training mae')\n",
        "plt.plot(epochs, val_acc_values, 'b', label = 'Validation mae')\n",
        "plt.ylim(0,5)\n",
        "plt.show()"
      ],
      "execution_count": null,
      "outputs": [
        {
          "output_type": "display_data",
          "data": {
            "image/png": "[encoded data removed]",
            "text/plain": [
              "<Figure size 432x288 with 1 Axes>"
            ]
          },
          "metadata": {
            "tags": [],
            "needs_background": "light"
          }
        }
      ]
    },
    {
      "cell_type": "code",
      "metadata": {
        "id": "7RRZWTz_9aYR",
        "outputId": "72369dd1-4743-48ec-cfad-0d6c3fea48d3",
        "colab": {
          "base_uri": "https://localhost:8080/"
        }
      },
      "source": [
        "# Evaluate the model on the test data and print the results\n",
        "results = model.evaluate(test_data, test_targets)\n",
        "print(results)\n",
        "print(model.metrics_names)"
      ],
      "execution_count": null,
      "outputs": [
        {
          "output_type": "stream",
          "text": [
            "3/3 [==============================] - 0s 2ms/step - loss: 6.5794 - mae: 1.8306\n",
            "[6.579435348510742, 1.8305854797363281]\n",
            "['loss', 'mae']\n"
          ],
          "name": "stdout"
        }
      ]
    },
    {
      "cell_type": "code",
      "metadata": {
        "id": "rX9iWNRHGXQ4",
        "outputId": "9efdfae3-a33f-4fea-e32e-d3fd2e24a1b7",
        "colab": {
          "base_uri": "https://localhost:8080/",
          "height": 419
        }
      },
      "source": [
        "predictions = model.predict(test_data)\n",
        "test_df = pd.DataFrame(test_data)\n",
        "pred = pd.DataFrame(predictions)\n",
        "targets = pd.DataFrame(test_targets)\n",
        "test_df['targets'] = targets\n",
        "test_df['pred'] = pred\n",
        "test_df.sort_values(by=['pred'])"
      ],
      "execution_count": null,
      "outputs": [
        {
          "output_type": "execute_result",
          "data": {
            "text/html": [
              "<div>\n",
              "<style scoped>\n",
              "    .dataframe tbody tr th:only-of-type {\n",
              "        vertical-align: middle;\n",
              "    }\n",
              "\n",
              "    .dataframe tbody tr th {\n",
              "        vertical-align: top;\n",
              "    }\n",
              "\n",
              "    .dataframe thead th {\n",
              "        text-align: right;\n",
              "    }\n",
              "</style>\n",
              "<table border=\"1\" class=\"dataframe\">\n",
              "  <thead>\n",
              "    <tr style=\"text-align: right;\">\n",
              "      <th></th>\n",
              "      <th>0</th>\n",
              "      <th>1</th>\n",
              "      <th>2</th>\n",
              "      <th>3</th>\n",
              "      <th>4</th>\n",
              "      <th>5</th>\n",
              "      <th>6</th>\n",
              "      <th>7</th>\n",
              "      <th>8</th>\n",
              "      <th>targets</th>\n",
              "      <th>pred</th>\n",
              "    </tr>\n",
              "  </thead>\n",
              "  <tbody>\n",
              "    <tr>\n",
              "      <th>61</th>\n",
              "      <td>1.469357</td>\n",
              "      <td>1.563241</td>\n",
              "      <td>2.858613</td>\n",
              "      <td>1.916955</td>\n",
              "      <td>-0.540919</td>\n",
              "      <td>-1.645646</td>\n",
              "      <td>0.756878</td>\n",
              "      <td>-0.446356</td>\n",
              "      <td>-0.497003</td>\n",
              "      <td>10.0</td>\n",
              "      <td>10.616920</td>\n",
              "    </tr>\n",
              "    <tr>\n",
              "      <th>10</th>\n",
              "      <td>1.469357</td>\n",
              "      <td>1.057910</td>\n",
              "      <td>2.470246</td>\n",
              "      <td>1.634990</td>\n",
              "      <td>-0.188855</td>\n",
              "      <td>-1.645646</td>\n",
              "      <td>0.756878</td>\n",
              "      <td>-0.446356</td>\n",
              "      <td>-0.497003</td>\n",
              "      <td>10.0</td>\n",
              "      <td>11.215598</td>\n",
              "    </tr>\n",
              "    <tr>\n",
              "      <th>18</th>\n",
              "      <td>1.469357</td>\n",
              "      <td>1.944624</td>\n",
              "      <td>2.211335</td>\n",
              "      <td>1.689260</td>\n",
              "      <td>-1.069016</td>\n",
              "      <td>-1.103734</td>\n",
              "      <td>0.756878</td>\n",
              "      <td>-0.446356</td>\n",
              "      <td>-0.497003</td>\n",
              "      <td>13.0</td>\n",
              "      <td>11.699726</td>\n",
              "    </tr>\n",
              "    <tr>\n",
              "      <th>70</th>\n",
              "      <td>1.469357</td>\n",
              "      <td>1.467896</td>\n",
              "      <td>1.822968</td>\n",
              "      <td>1.309374</td>\n",
              "      <td>-0.892984</td>\n",
              "      <td>-0.832778</td>\n",
              "      <td>0.756878</td>\n",
              "      <td>-0.446356</td>\n",
              "      <td>-0.497003</td>\n",
              "      <td>13.0</td>\n",
              "      <td>11.980147</td>\n",
              "    </tr>\n",
              "    <tr>\n",
              "      <th>54</th>\n",
              "      <td>1.469357</td>\n",
              "      <td>2.221126</td>\n",
              "      <td>2.677375</td>\n",
              "      <td>1.938191</td>\n",
              "      <td>-1.597113</td>\n",
              "      <td>-1.103734</td>\n",
              "      <td>0.756878</td>\n",
              "      <td>-0.446356</td>\n",
              "      <td>-0.497003</td>\n",
              "      <td>11.0</td>\n",
              "      <td>12.422111</td>\n",
              "    </tr>\n",
              "    <tr>\n",
              "      <th>...</th>\n",
              "      <td>...</td>\n",
              "      <td>...</td>\n",
              "      <td>...</td>\n",
              "      <td>...</td>\n",
              "      <td>...</td>\n",
              "      <td>...</td>\n",
              "      <td>...</td>\n",
              "      <td>...</td>\n",
              "      <td>...</td>\n",
              "      <td>...</td>\n",
              "      <td>...</td>\n",
              "    </tr>\n",
              "    <tr>\n",
              "      <th>8</th>\n",
              "      <td>-0.871145</td>\n",
              "      <td>-1.020624</td>\n",
              "      <td>-1.154513</td>\n",
              "      <td>-1.205894</td>\n",
              "      <td>1.148990</td>\n",
              "      <td>1.063913</td>\n",
              "      <td>-1.321217</td>\n",
              "      <td>-0.446356</td>\n",
              "      <td>2.012060</td>\n",
              "      <td>38.1</td>\n",
              "      <td>37.217896</td>\n",
              "    </tr>\n",
              "    <tr>\n",
              "      <th>22</th>\n",
              "      <td>-0.871145</td>\n",
              "      <td>-1.001555</td>\n",
              "      <td>-0.973275</td>\n",
              "      <td>-1.209433</td>\n",
              "      <td>-0.188855</td>\n",
              "      <td>1.605825</td>\n",
              "      <td>-1.321217</td>\n",
              "      <td>-0.446356</td>\n",
              "      <td>2.012060</td>\n",
              "      <td>38.0</td>\n",
              "      <td>38.137806</td>\n",
              "    </tr>\n",
              "    <tr>\n",
              "      <th>12</th>\n",
              "      <td>-0.871145</td>\n",
              "      <td>-1.096901</td>\n",
              "      <td>-1.154513</td>\n",
              "      <td>-1.451286</td>\n",
              "      <td>0.198416</td>\n",
              "      <td>1.334869</td>\n",
              "      <td>-1.321217</td>\n",
              "      <td>-0.446356</td>\n",
              "      <td>2.012060</td>\n",
              "      <td>35.1</td>\n",
              "      <td>38.543369</td>\n",
              "    </tr>\n",
              "    <tr>\n",
              "      <th>60</th>\n",
              "      <td>-0.871145</td>\n",
              "      <td>-1.001555</td>\n",
              "      <td>-0.947384</td>\n",
              "      <td>-1.203534</td>\n",
              "      <td>0.726513</td>\n",
              "      <td>1.605825</td>\n",
              "      <td>-1.321217</td>\n",
              "      <td>-0.446356</td>\n",
              "      <td>2.012060</td>\n",
              "      <td>31.0</td>\n",
              "      <td>38.768700</td>\n",
              "    </tr>\n",
              "    <tr>\n",
              "      <th>20</th>\n",
              "      <td>-0.871145</td>\n",
              "      <td>-1.001555</td>\n",
              "      <td>-0.947384</td>\n",
              "      <td>-1.138647</td>\n",
              "      <td>0.937751</td>\n",
              "      <td>1.605825</td>\n",
              "      <td>-1.321217</td>\n",
              "      <td>-0.446356</td>\n",
              "      <td>2.012060</td>\n",
              "      <td>37.0</td>\n",
              "      <td>38.836773</td>\n",
              "    </tr>\n",
              "  </tbody>\n",
              "</table>\n",
              "<p>79 rows × 11 columns</p>\n",
              "</div>"
            ],
            "text/plain": [
              "           0         1         2  ...         8  targets       pred\n",
              "61  1.469357  1.563241  2.858613  ... -0.497003     10.0  10.616920\n",
              "10  1.469357  1.057910  2.470246  ... -0.497003     10.0  11.215598\n",
              "18  1.469357  1.944624  2.211335  ... -0.497003     13.0  11.699726\n",
              "70  1.469357  1.467896  1.822968  ... -0.497003     13.0  11.980147\n",
              "54  1.469357  2.221126  2.677375  ... -0.497003     11.0  12.422111\n",
              "..       ...       ...       ...  ...       ...      ...        ...\n",
              "8  -0.871145 -1.020624 -1.154513  ...  2.012060     38.1  37.217896\n",
              "22 -0.871145 -1.001555 -0.973275  ...  2.012060     38.0  38.137806\n",
              "12 -0.871145 -1.096901 -1.154513  ...  2.012060     35.1  38.543369\n",
              "60 -0.871145 -1.001555 -0.947384  ...  2.012060     31.0  38.768700\n",
              "20 -0.871145 -1.001555 -0.947384  ...  2.012060     37.0  38.836773\n",
              "\n",
              "[79 rows x 11 columns]"
            ]
          },
          "metadata": {
            "tags": []
          },
          "execution_count": 53
        }
      ]
    },
    {
      "cell_type": "markdown",
      "metadata": {
        "id": "M6WhGijYLEXF"
      },
      "source": [
        "Above the model shows there is an average of 1.83 mpg off, and when considering the targets are ranging from 9 mpg to 46 mp, that value could be 5%-20% inaccuracte, and with compared to the mean of the mpg (~23) it is still 8% off, which is not phenomenal. Below we run 3 different models with different parameters to see if we can reduce the mae of the model."
      ]
    },
    {
      "cell_type": "code",
      "metadata": {
        "id": "qyRudHeQdRLt",
        "outputId": "af8f80f6-0545-4398-e597-4e64e9f36ac2",
        "colab": {
          "base_uri": "https://localhost:8080/"
        }
      },
      "source": [
        "# Clear your session using this command: backend.clear_session() \n",
        "# Things to try: more hidden layers and hiddent units, activation types, epochs, batch size, and validation_split.\n",
        "# Try as many models as you like.  Be sure to clear the session each time.  backend.clear_session() \n",
        "backend.clear_session()\n",
        "model = models.Sequential()\n",
        "model.add(layers.Dense(64, activation = 'sigmoid', input_shape = (train_data.shape[1],)))\n",
        "model.add(layers.Dense(64, activation = 'sigmoid'))\n",
        "model.add(layers.Dense(1))\n",
        "\n",
        "model.compile(optimizer = 'adam', loss = 'mse', metrics = ['mae'])\n",
        "\n",
        "history = model.fit(x_train,\n",
        "                    y_train,\n",
        "                    epochs = 2000,\n",
        "                    batch_size = 100,\n",
        "                    validation_data = (x_val, y_val),\n",
        "                    verbose = 0)\n",
        "\n",
        "results = model.evaluate(test_data, test_targets)\n",
        "print(results)"
      ],
      "execution_count": null,
      "outputs": [
        {
          "output_type": "stream",
          "text": [
            "3/3 [==============================] - 0s 2ms/step - loss: 6.8382 - mae: 1.9807\n",
            "[6.838169574737549, 1.9806506633758545]\n"
          ],
          "name": "stdout"
        }
      ]
    },
    {
      "cell_type": "code",
      "metadata": {
        "id": "lEd5BKvvK2QA",
        "outputId": "99727a34-347c-45fb-e7c7-f6b72d6b48ff",
        "colab": {
          "base_uri": "https://localhost:8080/"
        }
      },
      "source": [
        "backend.clear_session()\n",
        "model = models.Sequential()\n",
        "model.add(layers.Dense(512, activation = 'relu', input_shape = (train_data.shape[1],)))\n",
        "model.add(layers.Dense(256, activation = 'relu'))\n",
        "model.add(layers.Dense(128, activation = 'relu'))\n",
        "model.add(layers.Dense(64, activation = 'relu'))\n",
        "model.add(layers.Dense(1))\n",
        "\n",
        "model.compile(optimizer = 'adam', loss = 'mse', metrics = ['mae'])\n",
        "\n",
        "history = model.fit(x_train,\n",
        "                    y_train,\n",
        "                    epochs = 1000,\n",
        "                    batch_size = 100,\n",
        "                    validation_data = (x_val, y_val),\n",
        "                    verbose = 0)\n",
        "\n",
        "results = model.evaluate(test_data, test_targets)\n",
        "print(results)"
      ],
      "execution_count": null,
      "outputs": [
        {
          "output_type": "stream",
          "text": [
            "3/3 [==============================] - 0s 3ms/step - loss: 12.9231 - mae: 2.2516\n",
            "[12.923066139221191, 2.2516250610351562]\n"
          ],
          "name": "stdout"
        }
      ]
    },
    {
      "cell_type": "code",
      "metadata": {
        "id": "NyjTWI0lOJ7F",
        "outputId": "d48649ef-5010-41b6-c313-2370fac5141e",
        "colab": {
          "base_uri": "https://localhost:8080/"
        }
      },
      "source": [
        "backend.clear_session()\n",
        "model = models.Sequential()\n",
        "model.add(layers.Dense(64, activation = 'relu', input_shape = (train_data.shape[1],)))\n",
        "model.add(layers.Dense(64, activation = 'relu'))\n",
        "model.add(layers.Dense(64, activation = 'relu'))\n",
        "model.add(layers.Dense(64, activation = 'relu'))\n",
        "model.add(layers.Dense(64, activation = 'relu'))\n",
        "model.add(layers.Dense(64, activation = 'relu'))\n",
        "model.add(layers.Dense(64, activation = 'relu'))\n",
        "model.add(layers.Dense(64, activation = 'relu'))\n",
        "model.add(layers.Dense(64, activation = 'relu'))\n",
        "model.add(layers.Dense(64, activation = 'relu'))\n",
        "model.add(layers.Dense(1))\n",
        "\n",
        "model.compile(optimizer = 'adam', loss = 'mse', metrics = ['mae'])\n",
        "\n",
        "history = model.fit(x_train,\n",
        "                    y_train,\n",
        "                    epochs = 1000,\n",
        "                    batch_size = 100,\n",
        "                    validation_data = (x_val, y_val),\n",
        "                    verbose = 0)\n",
        "\n",
        "results = model.evaluate(test_data, test_targets)\n",
        "print(results)"
      ],
      "execution_count": null,
      "outputs": [
        {
          "output_type": "stream",
          "text": [
            "3/3 [==============================] - 0s 2ms/step - loss: 15.5422 - mae: 2.3977\n",
            "[15.542171478271484, 2.397670030593872]\n"
          ],
          "name": "stdout"
        }
      ]
    },
    {
      "cell_type": "markdown",
      "metadata": {
        "id": "xxdrgJn0OfRN"
      },
      "source": [
        "Above, three models were attempted to improve the performance.\n",
        "1) identical network with a different activation and more epochs\n",
        "2) a network with nodes decreasing at each level\n",
        "3) a network with identical layers and a layer for every feature.\n",
        "\n",
        "All of these changes went without decreasing the mae, thus it seems our original model may in simplistic measures be the most performant. Next steps could be to tweak the optimizers according to the learning rate, beta, and epsilon parameters from the keras documentation, or further investigate activation measures.\n",
        "\n",
        "\n",
        "References:\n",
        "\n",
        "https://keras.io/api/layers/activations/\n",
        "https://faroit.com/keras-docs/0.2.0/optimizers/\n",
        "https://keras.io/api/optimizers/"
      ]
    }
  ]
}