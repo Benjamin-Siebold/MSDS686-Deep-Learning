{
 "cells": [
  {
   "cell_type": "markdown",
   "metadata": {
    "id": "hz9jeqeH82dC"
   },
   "source": [
    "# Reuters Regularization and Dropout Using TensorBoard\n",
    "## Adapted from Deep Learning with Python by Francois Chollet\n",
    "#### Use the Keras Reuters dataset to classify news wires into 46 different categories.  Use regularization and stopearly call backs to improve your neural network."
   ]
  },
  {
   "cell_type": "code",
   "execution_count": null,
   "metadata": {
    "id": "Ddja0afs82dK"
   },
   "outputs": [],
   "source": [
    "from IPython.core.display import display, HTML\n",
    "display(HTML(\"<style>.container { width:95% !important; }</style>\"))"
   ]
  },
  {
   "cell_type": "code",
   "execution_count": 2,
   "metadata": {
    "id": "XmsqKzOw82dl"
   },
   "outputs": [
    {
     "ename": "ModuleNotFoundError",
     "evalue": "No module named 'tensorflow'",
     "output_type": "error",
     "traceback": [
      "\u001b[1;31m---------------------------------------------------------------------------\u001b[0m",
      "\u001b[1;31mModuleNotFoundError\u001b[0m                       Traceback (most recent call last)",
      "\u001b[1;32m<ipython-input-2-d2520e33f501>\u001b[0m in \u001b[0;36m<module>\u001b[1;34m\u001b[0m\n\u001b[0;32m      1\u001b[0m \u001b[1;31m# Import all the necessary libraries and set the np and tf seed\u001b[0m\u001b[1;33m\u001b[0m\u001b[1;33m\u001b[0m\u001b[1;33m\u001b[0m\u001b[0m\n\u001b[1;32m----> 2\u001b[1;33m \u001b[1;32mimport\u001b[0m \u001b[0mtensorflow\u001b[0m \u001b[1;32mas\u001b[0m \u001b[0mtf\u001b[0m\u001b[1;33m\u001b[0m\u001b[1;33m\u001b[0m\u001b[0m\n\u001b[0m\u001b[0;32m      3\u001b[0m \u001b[1;32mfrom\u001b[0m \u001b[0mtensorflow\u001b[0m\u001b[1;33m.\u001b[0m\u001b[0mkeras\u001b[0m \u001b[1;32mimport\u001b[0m \u001b[0mreuters\u001b[0m\u001b[1;33m\u001b[0m\u001b[1;33m\u001b[0m\u001b[0m\n\u001b[0;32m      4\u001b[0m \u001b[1;32mfrom\u001b[0m \u001b[0mkeras\u001b[0m \u001b[1;32mimport\u001b[0m \u001b[0mmodels\u001b[0m\u001b[1;33m,\u001b[0m \u001b[0mlayers\u001b[0m\u001b[1;33m\u001b[0m\u001b[1;33m\u001b[0m\u001b[0m\n\u001b[0;32m      5\u001b[0m \u001b[1;32mimport\u001b[0m \u001b[0mmatplotlib\u001b[0m\u001b[1;33m.\u001b[0m\u001b[0mpyplot\u001b[0m \u001b[1;32mas\u001b[0m \u001b[0mplt\u001b[0m\u001b[1;33m\u001b[0m\u001b[1;33m\u001b[0m\u001b[0m\n",
      "\u001b[1;31mModuleNotFoundError\u001b[0m: No module named 'tensorflow'"
     ]
    }
   ],
   "source": [
    "# Import all the necessary libraries and set the np and tf seed\n",
    "import tensorflow as tf\n",
    "from tensorflow.keras import reuters\n",
    "from keras import models, layers\n",
    "import matplotlib.pyplot as plt\n",
    "import numpy as np\n",
    "tf.random.set_seed(20)\n",
    "np.random.seed(20)"
   ]
  },
  {
   "cell_type": "code",
   "execution_count": null,
   "metadata": {
    "id": "LOawNEAD82du"
   },
   "outputs": [],
   "source": [
    "# Import the Reuters data set from the Keras library. https://keras.io/datasets/\n"
   ]
  },
  {
   "cell_type": "code",
   "execution_count": null,
   "metadata": {
    "id": "Qf6sV0l-82d2"
   },
   "outputs": [],
   "source": [
    "# Define a function to vectorize the data.\n"
   ]
  },
  {
   "cell_type": "code",
   "execution_count": null,
   "metadata": {
    "id": "kt1tccdA82eA"
   },
   "outputs": [],
   "source": [
    "# Vectorize the train_data and test_data\n"
   ]
  },
  {
   "cell_type": "code",
   "execution_count": null,
   "metadata": {
    "id": "FE1dXymq82eN"
   },
   "outputs": [],
   "source": [
    "# Encode the labes to categorical. \n"
   ]
  },
  {
   "cell_type": "code",
   "execution_count": null,
   "metadata": {
    "id": "laGfvA9P82eX"
   },
   "outputs": [],
   "source": [
    "# Split the data into training and validation\n"
   ]
  },
  {
   "cell_type": "markdown",
   "metadata": {
    "id": "Vd1qeunf82ek"
   },
   "source": [
    "# Let us try to improve on our model using TensorBoard and optimize the hyper-parameters.\n",
    "## This tutorial was adapted from these sources: https://www.tensorflow.org/tensorboard/get_started and https://towardsdatascience.com/tensorboard-hyperparameter-optimization-a51ef7af71f5"
   ]
  },
  {
   "cell_type": "code",
   "execution_count": null,
   "metadata": {
    "id": "oaD17CCf4YV9"
   },
   "outputs": [],
   "source": [
    "# Import libaries needed for TensorBoard\n"
   ]
  },
  {
   "cell_type": "code",
   "execution_count": null,
   "metadata": {
    "id": "KxKYxLbt4YWF"
   },
   "outputs": [],
   "source": [
    "# Clear old log files\n"
   ]
  },
  {
   "cell_type": "code",
   "execution_count": null,
   "metadata": {
    "id": "CuNAdENI4YWP"
   },
   "outputs": [],
   "source": [
    "# Define the hyper-parameters to grid search\n",
    "\n",
    "# Write all the hyperpareters to file\n"
   ]
  },
  {
   "cell_type": "code",
   "execution_count": null,
   "metadata": {
    "id": "NXAcduhG4YWV"
   },
   "outputs": [],
   "source": [
    "# Define the nerual net model.  Notice the hyperparameters added and the callbacks\n"
   ]
  },
  {
   "cell_type": "code",
   "execution_count": null,
   "metadata": {
    "id": "hgTdpH8i4YWn"
   },
   "outputs": [],
   "source": [
    "# Create a function to save hyperparamters and accuray output to file\n",
    "\n"
   ]
  },
  {
   "cell_type": "code",
   "execution_count": null,
   "metadata": {
    "id": "r7K00Wnh4YWs"
   },
   "outputs": [],
   "source": [
    "# Loop through hyperparameters and save outputs to file\n"
   ]
  },
  {
   "cell_type": "code",
   "execution_count": null,
   "metadata": {
    "id": "E67FYpVq4YWz",
    "scrolled": true
   },
   "outputs": [],
   "source": [
    "# Load tensorboard and view output.  \n"
   ]
  }
 ],
 "metadata": {
  "colab": {
   "name": "Reuters_Regularization_and_Dropout_TensorBoard_Extra_Work.ipynb",
   "provenance": []
  },
  "kernelspec": {
   "display_name": "Python 3",
   "language": "python",
   "name": "python3"
  },
  "language_info": {
   "codemirror_mode": {
    "name": "ipython",
    "version": 3
   },
   "file_extension": ".py",
   "mimetype": "text/x-python",
   "name": "python",
   "nbconvert_exporter": "python",
   "pygments_lexer": "ipython3",
   "version": "3.6.8"
  }
 },
 "nbformat": 4,
 "nbformat_minor": 1
}
