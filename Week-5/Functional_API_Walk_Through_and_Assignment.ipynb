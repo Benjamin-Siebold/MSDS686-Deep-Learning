{
  "nbformat": 4,
  "nbformat_minor": 0,
  "metadata": {
    "accelerator": "GPU",
    "colab": {
      "name": "Functional_API_Walk_Through_and_Assignment.ipynb",
      "provenance": [],
      "collapsed_sections": []
    },
    "kernelspec": {
      "display_name": "Python 3",
      "language": "python",
      "name": "python3"
    },
    "language_info": {
      "codemirror_mode": {
        "name": "ipython",
        "version": 3
      },
      "file_extension": ".py",
      "mimetype": "text/x-python",
      "name": "python",
      "nbconvert_exporter": "python",
      "pygments_lexer": "ipython3",
      "version": "3.7.1"
    }
  },
  "cells": [
    {
      "cell_type": "code",
      "metadata": {
        "id": "ArHmf0sSQ-J6"
      },
      "source": [
        "from IPython.core.display import display, HTML\n",
        "display(HTML(\"<style>.container { width:95% !important; }</style>\"))"
      ],
      "execution_count": null,
      "outputs": []
    },
    {
      "cell_type": "markdown",
      "metadata": {
        "id": "TOWkRx-yBZKD"
      },
      "source": [
        "# Functional API\n",
        "In this module, we will explore Keras's another model building API called functional API.\n",
        "Here is the documentation: https://keras.io/getting-started/functional-api-guide/\n",
        "\n",
        "In `Sequential`, you build a model by adding a layer to the `model` object:\n",
        "\n",
        "```\n",
        "model = Sequential()\n",
        "model.add(Conv2D(32, 3, input_shape=(32,32,3), activation='relu'))\n",
        "model.add(Conv2D(32, 3))\n",
        "model.add(Activation('relu'))\n",
        "```\n",
        "\n",
        "However, in functional API, you define the inpute parameters and pass the input into the appropiate layer and the subsequent output is passed as input into the appropiate layer.  Lastly you define the inputs and outputs in a Model layer:   \n",
        "```\n",
        "inputs = Input(shape=(32,32,3))\n",
        "conv1 = Conv2D(32,3, activation='relu')(inputs)\n",
        "conv2 = Conv2D(32,3)(conv1)\n",
        "conv2 = BatchNormalization()(conv2)\n",
        "conv2 = Activation('relu')(conv2)\n",
        "output = Dense(10, activation='softmax')(conv2)\n",
        "\n",
        "model = Model(inputs=inputs, outputs=output)\n",
        "```\n",
        "As you can see from above, the functional API model needs a separate layer for input and output. Input() creates the the input tensor. Model() makes a model object from the output tensor. \n",
        "\n",
        "An advantage of functional API over Sequential is its flexibility. You can build a model architecture that has parallel paths or merging layers.\n",
        "\n",
        "```\n",
        "conv1 = Conv2D(32,3,activation='relu')(conv0)\n",
        "conv2 = Conv2D(32,5,activation='relu')(conv0)\n",
        "concat = Concatenate(axis=-1)([conv1, conv2])\n",
        "conv3 = Conv2D(32,3,activation='relu')(concat)\n",
        "\n",
        "```\n",
        "The above example shows that the feature map from conv0 is split into two paths which are passed to conv1, and conv2 and then concatenated before passing to conv3:\n",
        "\n",
        "```\n",
        "\n",
        "         ____ conv1 (3x3)____\n",
        "        /                    \\   \n",
        "conv0---                      (concatenate) -- conv3 (3x3)\n",
        "        \\____ conv2 (5x5)____/\n",
        "        \n",
        "```"
      ]
    },
    {
      "cell_type": "markdown",
      "metadata": {
        "id": "7COskCiVJZcB"
      },
      "source": [
        "# Below is an example of building a Functional API model using the CIFAR10 dataset"
      ]
    },
    {
      "cell_type": "code",
      "metadata": {
        "id": "XHs1a2WNBZKE"
      },
      "source": [
        "from tensorflow import tf\n",
        "from tensorflow.keras.datasets import cifar10\n",
        "from tensorflow.keras.models import Model\n",
        "from tensorflow.keras.utils import plot_model # This will print model architecture.\n",
        "from tensorflow.keras.layers import Input, Concatenate, Dense, Dropout, Flatten, Activation # We add the Concatentate function\n",
        "from tensorflow.keras.layers import Conv2D, MaxPooling2D, AveragePooling2D, SeparableConv2D # We will use AveragePooling2D. Similar to MaxPooling but now we take the average value in the window.\n",
        "from tensorflow.keras.layers import BatchNormalization\n",
        "from tensorflow.keras.utils import to_categorical\n",
        "from tensorflow.keras.optimizers import Adam\n",
        "from tensorflow.keras.callbacks import EarlyStopping\n",
        "from tensorflow.keras import backend\n",
        "from sklearn.model_selection import train_test_split\n",
        "import matplotlib.pyplot as plt\n",
        "import numpy as np\n",
        "import pandas as pd\n",
        "\n",
        "\n",
        "# set np and tf random seed for reproducibility\n",
        "\n",
        "# load data\n",
        "\n",
        "# Reshape xblock data and normalize\n",
        "\n",
        "\n",
        "# convert to labels to categorical\n",
        "\n",
        "\n",
        "#split into validation and train data\n"
      ],
      "execution_count": null,
      "outputs": []
    },
    {
      "cell_type": "markdown",
      "metadata": {
        "id": "FRwvCS05pu6C"
      },
      "source": [
        "#Here is an example on how to build a Functional API architecture"
      ]
    },
    {
      "cell_type": "code",
      "metadata": {
        "id": "YfXWEpYgycRD"
      },
      "source": [
        "backend.clear_session()\n",
        "\n",
        "# Input model\n",
        "visible = Input(shape=(32,32,3))\n",
        "\n",
        "# Create Tower 1\n",
        "conv11 = Conv2D(32, (3,3), padding = 'same', activation='relu')(visible)\n",
        "pool11 = MaxPooling2D((2, 2), padding = 'same')(conv11)\n",
        "\n",
        "# Create Tower 2\n",
        "conv21 = Conv2D(32, (3,3), padding = 'same', activation='relu')(visible)\n",
        "pool21 = MaxPooling2D((2,2), padding = 'same')(conv21)\n",
        "\n",
        "# Concatentate\n",
        "merge = Concatenate(axis=-1)([pool11, pool21])\n",
        "\n",
        "# Flatten into fully connected layer\n",
        "flat = Flatten()(merge)\n",
        "\n",
        "# Hidden connected layer and output\n",
        "hidden = Dense(32, activation='relu')(flat)\n",
        "drop = Dropout(0.5)(hidden)\n",
        "output = Dense(10, activation='softmax')(drop)\n",
        "\n",
        "model_example = Model(inputs=visible, outputs=output)\n",
        "# plot graph\n",
        "plot_model(model_example)"
      ],
      "execution_count": null,
      "outputs": []
    },
    {
      "cell_type": "markdown",
      "metadata": {
        "id": "7ccgojmN_jDC"
      },
      "source": [
        "# Your Turn.  Use the CIFAR10 dataset throughout the assignment"
      ]
    },
    {
      "cell_type": "markdown",
      "metadata": {
        "id": "Q9pVwmNjp9-Z"
      },
      "source": [
        "### Build the Inception model found in figure 7.8 in Deep Learning with Python (Chollet) \n",
        "### Print (plot) the model architecture"
      ]
    },
    {
      "cell_type": "code",
      "metadata": {
        "id": "c1nxVV8r0AIo"
      },
      "source": [
        "# Build and print (plot) the model architecture found in figure 7.8 (Chollet)"
      ],
      "execution_count": null,
      "outputs": []
    },
    {
      "cell_type": "markdown",
      "metadata": {
        "id": "OOomOu4XtNE8"
      },
      "source": [
        "### Build the model that is shown in the Week_5_API_Model_Architecture.png figure under the Week 5 Content tab.  Choose the number of hidden units (nodes) in each layer.  Then compile, fit, plot, and assess on the test data all in one cell. "
      ]
    },
    {
      "cell_type": "code",
      "metadata": {
        "id": "jwmXKmM4wkIa"
      },
      "source": [
        "# Build the model and print (plot) the model."
      ],
      "execution_count": null,
      "outputs": []
    },
    {
      "cell_type": "code",
      "metadata": {
        "id": "65EiMO0jz_wx"
      },
      "source": [
        "#Compile, fit, plot, and assess in one cell.  "
      ],
      "execution_count": null,
      "outputs": []
    },
    {
      "cell_type": "markdown",
      "metadata": {
        "id": "QABDzGE3uUu7"
      },
      "source": [
        "### Optimize your neural network. Try using SeparableConv2D layers (Chollet 7.3.1) add or remove layers, change the number of units (nodes), add or remove regularization and normalization. Spend sometime optimizing the network using the techniques we have learned thus far.  Feel free to do your own research on best arcitectures.  Can you improve your test accuracy above 0.80%, which was the benchmark last week? Remember to compile, plot, assess on test data all in one cell."
      ]
    },
    {
      "cell_type": "code",
      "metadata": {
        "id": "CpU4cc2mwsdg"
      },
      "source": [
        "# Optimize your model(s).\n",
        "# Build the model(s) and print (plot) the model."
      ],
      "execution_count": null,
      "outputs": []
    },
    {
      "cell_type": "code",
      "metadata": {
        "id": "K54i9BdMz0kA"
      },
      "source": [
        "# Compile, fit, plot, and assess in one cell."
      ],
      "execution_count": null,
      "outputs": []
    },
    {
      "cell_type": "markdown",
      "metadata": {
        "id": "oC_rVAFuxShn"
      },
      "source": [
        "### What are the benifits of Funtional API models.  Give an hypothetical example (different than the book) where having different input types would be benificial in API models.  Give another hypotheical exmple (different than the book) where having different output types would be benificial in API models"
      ]
    },
    {
      "cell_type": "markdown",
      "metadata": {
        "id": "m-jvOwmABJiP"
      },
      "source": [
        ""
      ]
    },
    {
      "cell_type": "markdown",
      "metadata": {
        "id": "RKDngPGUw48Q"
      },
      "source": [
        "### Comment on the model arcitecture that worked the best. What was the accuracy? Did you improve accuracry from last week?  How long did the training take?"
      ]
    },
    {
      "cell_type": "markdown",
      "metadata": {
        "id": "og6dljmhw0q3"
      },
      "source": [
        ""
      ]
    }
  ]
}